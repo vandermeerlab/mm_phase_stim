{
 "cells": [
  {
   "cell_type": "code",
   "execution_count": 1,
   "metadata": {},
   "outputs": [],
   "source": [
    "import os\n",
    "import csv\n",
    "from pathlib import Path"
   ]
  },
  {
   "cell_type": "code",
   "execution_count": 2,
   "metadata": {},
   "outputs": [],
   "source": [
    "\n",
    "def process_specific_m_folders(root_directory, m_folders, output_csv):\n",
    "    \"\"\"\n",
    "    Process specific M-folders and their subfolders for matching files.\n",
    "    \n",
    "    Args:\n",
    "        root_directory (str): Path to the root directory\n",
    "        m_folders (list): List of M-folder names to process (e.g., ['M016', 'M017'])\n",
    "        output_csv (str): Path to the output CSV file\n",
    "    \"\"\"\n",
    "    results = []\n",
    "    \n",
    "    # Process each specified M-directory\n",
    "    for m_dir in sorted(m_folders):\n",
    "        m_path = os.path.join(root_directory, m_dir)\n",
    "        \n",
    "        # Check if the M-directory exists\n",
    "        if not os.path.exists(m_path):\n",
    "            print(f\"Warning: Directory {m_path} does not exist. Skipping...\")\n",
    "            continue\n",
    "        \n",
    "        # Walk through all subdirectories in this M-directory\n",
    "        for dirpath, dirnames, filenames in os.walk(m_path):\n",
    "            # Check if directory matches the pattern (contains MXXX-20YY-MM-DD)\n",
    "            current_dir = os.path.basename(dirpath)\n",
    "            if not any(part.startswith(m_dir) and '-20' in part for part in current_dir.split('_')):\n",
    "                continue\n",
    "                \n",
    "            # Get the prefix part (MXXX-20YY-MM-DD)\n",
    "            prefix = current_dir.split('_')[0]\n",
    "            \n",
    "            # Look for the two required files\n",
    "            opto_file = None\n",
    "            ntt_file = None\n",
    "            \n",
    "            for file in filenames:\n",
    "                if file.startswith(prefix):\n",
    "                    if file.endswith('.t'):\n",
    "                        opto_file = file\n",
    "                    elif file.endswith('.ntt'):\n",
    "                        ntt_file = file\n",
    "            \n",
    "            # If both files are found, add to results\n",
    "            if opto_file and ntt_file:\n",
    "                results.append([\n",
    "                    os.path.abspath(dirpath),  # absolute folder path\n",
    "                    opto_file,                 # opto cluster file\n",
    "                    ntt_file,                  # ntt file\n",
    "                    m_dir                      # M-directory identifier\n",
    "                ])\n",
    "    \n",
    "    # Write results to CSV\n",
    "    with open(output_csv, 'w', newline='') as f:\n",
    "        writer = csv.writer(f)\n",
    "        writer.writerow(['Folder Path', 'Opto Cluster', 'NTT File', 'M Directory'])\n",
    "        writer.writerows(results)"
   ]
  },
  {
   "cell_type": "code",
   "execution_count": 6,
   "metadata": {},
   "outputs": [],
   "source": [
    "root_dir = \"data\"\n",
    "output_file = \"output\\\\folder_analysis.csv\"\n",
    "\n",
    "# Specify which M-folders to process\n",
    "m_folders_to_process = ['M016', 'M017', 'M018', 'M019', 'M020']\n",
    "\n",
    "process_specific_m_folders(root_dir, m_folders_to_process, output_file)"
   ]
  }
 ],
 "metadata": {
  "kernelspec": {
   "display_name": "pynapple",
   "language": "python",
   "name": "python3"
  },
  "language_info": {
   "codemirror_mode": {
    "name": "ipython",
    "version": 3
   },
   "file_extension": ".py",
   "mimetype": "text/x-python",
   "name": "python",
   "nbconvert_exporter": "python",
   "pygments_lexer": "ipython3",
   "version": "3.10.0"
  }
 },
 "nbformat": 4,
 "nbformat_minor": 2
}
