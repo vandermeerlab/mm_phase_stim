{
 "cells": [
  {
   "cell_type": "code",
   "execution_count": 13,
   "id": "8e68b656-b934-4094-8f2c-7de346868e2b",
   "metadata": {
    "tags": []
   },
   "outputs": [],
   "source": [
    "import upsetplot as up\n",
    "import matplotlib.pyplot as plt\n",
    "import pandas as pd\n",
    "import os"
   ]
  },
  {
   "cell_type": "code",
   "execution_count": 15,
   "id": "9cdeb65f-8896-4d70-8132-ae0e06f7a082",
   "metadata": {
    "tags": []
   },
   "outputs": [],
   "source": [
    "%matplotlib inline"
   ]
  },
  {
   "cell_type": "code",
   "execution_count": 16,
   "id": "ec142f8f-3c02-455f-ad63-afae5698a793",
   "metadata": {
    "tags": []
   },
   "outputs": [],
   "source": [
    "x = up.generate_counts()"
   ]
  },
  {
   "cell_type": "code",
   "execution_count": 17,
   "id": "35d6ec5d-c20e-4647-9ede-479544b5eb3f",
   "metadata": {
    "tags": []
   },
   "outputs": [
    {
     "name": "stdout",
     "output_type": "stream",
     "text": [
      "cat0   cat1   cat2 \n",
      "False  False  False      56\n",
      "              True      283\n",
      "       True   False    1279\n",
      "              True     5882\n",
      "True   False  False      24\n",
      "              True       90\n",
      "       True   False     429\n",
      "              True     1957\n",
      "Name: value, dtype: int64\n"
     ]
    }
   ],
   "source": [
    "print(x)"
   ]
  },
  {
   "cell_type": "code",
   "execution_count": 21,
   "id": "0de649a2-bac8-434f-b9f4-8cd1ecb4a682",
   "metadata": {
    "tags": []
   },
   "outputs": [],
   "source": [
    "filepath1 = os.path.join('C:','Users','mvdmlab','Desktop','dStr_sig.csv')\n",
    "filepath2 = os.path.join('C:','Users','mvdmlab','Desktop','vStr_sig.csv')"
   ]
  },
  {
   "cell_type": "code",
   "execution_count": null,
   "id": "558190ea-9004-4a15-8e3c-c43173781fc3",
   "metadata": {},
   "outputs": [],
   "source": [
    "x1 = pd.read_csv(filepath1)"
   ]
  }
 ],
 "metadata": {
  "kernelspec": {
   "display_name": "Python 3 (ipykernel)",
   "language": "python",
   "name": "python3"
  },
  "language_info": {
   "codemirror_mode": {
    "name": "ipython",
    "version": 3
   },
   "file_extension": ".py",
   "mimetype": "text/x-python",
   "name": "python",
   "nbconvert_exporter": "python",
   "pygments_lexer": "ipython3",
   "version": "3.9.17"
  }
 },
 "nbformat": 4,
 "nbformat_minor": 5
}
